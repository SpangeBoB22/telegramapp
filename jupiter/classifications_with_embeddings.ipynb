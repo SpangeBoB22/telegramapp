{
 "cells": [
  {
   "cell_type": "code",
   "id": "initial_id",
   "metadata": {
    "collapsed": true,
    "ExecuteTime": {
     "end_time": "2024-05-05T18:42:13.088951Z",
     "start_time": "2024-05-05T18:42:11.927499Z"
    }
   },
   "source": [
    "import json\n",
    "import os\n",
    "import pathlib\n",
    "import pandas as pd\n",
    "\n",
    "import seaborn as sns\n",
    "import matplotlib.pyplot as plt\n",
    "\n",
    "from keras import layers\n",
    "from matplotlib.ticker import MaxNLocator\n",
    "import sklearn.metrics as skmetrics\n",
    "from sklearn.preprocessing import LabelEncoder"
   ],
   "outputs": [],
   "execution_count": 11
  },
  {
   "metadata": {
    "ExecuteTime": {
     "end_time": "2024-05-05T18:38:40.141278Z",
     "start_time": "2024-05-05T18:38:40.076209Z"
    }
   },
   "cell_type": "code",
   "source": [
    "path_to_data = pathlib.Path(os.getcwd()).parent.absolute() / 'data/hromadske.jsonl'\n",
    "with open(path_to_data, 'r', encoding='utf-8') as f:\n",
    "    data = f.readlines()"
   ],
   "id": "83b67312795add67",
   "outputs": [],
   "execution_count": 4
  },
  {
   "metadata": {
    "ExecuteTime": {
     "end_time": "2024-05-05T18:40:57.936495Z",
     "start_time": "2024-05-05T18:40:57.670713Z"
    }
   },
   "cell_type": "code",
   "source": "data = [json.loads(record.strip()) for record in data]",
   "id": "dfc78413e0c44b0e",
   "outputs": [],
   "execution_count": 8
  },
  {
   "metadata": {
    "ExecuteTime": {
     "end_time": "2024-05-05T18:42:14.641564Z",
     "start_time": "2024-05-05T18:42:14.605754Z"
    }
   },
   "cell_type": "code",
   "source": [
    "df = pd.DataFrame.from_records(data)[['cleared_text', 'tonality', 'embedding_clf']]\n",
    "df.head(3)"
   ],
   "id": "21a5a0c732c39d35",
   "outputs": [
    {
     "data": {
      "text/plain": [
       "                                        cleared_text    tonality  \\\n",
       "0  Росіяни масовано атакували енергетику України ...   негативна   \n",
       "1  Це була одна з найбільших атак на енергетику з...  нейтральна   \n",
       "2  У Бєлгороді заявили про обстріл міста, відомо ...   негативна   \n",
       "\n",
       "                                       embedding_clf  \n",
       "0  [0.010125471, 0.03413575, -0.0815052, -0.00182...  \n",
       "1  [-0.020650906, 0.018376114, -0.055988964, 0.01...  \n",
       "2  [-0.0119311195, 0.015456551, -0.014062805, 0.0...  "
      ],
      "text/html": [
       "<div>\n",
       "<style scoped>\n",
       "    .dataframe tbody tr th:only-of-type {\n",
       "        vertical-align: middle;\n",
       "    }\n",
       "\n",
       "    .dataframe tbody tr th {\n",
       "        vertical-align: top;\n",
       "    }\n",
       "\n",
       "    .dataframe thead th {\n",
       "        text-align: right;\n",
       "    }\n",
       "</style>\n",
       "<table border=\"1\" class=\"dataframe\">\n",
       "  <thead>\n",
       "    <tr style=\"text-align: right;\">\n",
       "      <th></th>\n",
       "      <th>cleared_text</th>\n",
       "      <th>tonality</th>\n",
       "      <th>embedding_clf</th>\n",
       "    </tr>\n",
       "  </thead>\n",
       "  <tbody>\n",
       "    <tr>\n",
       "      <th>0</th>\n",
       "      <td>Росіяни масовано атакували енергетику України ...</td>\n",
       "      <td>негативна</td>\n",
       "      <td>[0.010125471, 0.03413575, -0.0815052, -0.00182...</td>\n",
       "    </tr>\n",
       "    <tr>\n",
       "      <th>1</th>\n",
       "      <td>Це була одна з найбільших атак на енергетику з...</td>\n",
       "      <td>нейтральна</td>\n",
       "      <td>[-0.020650906, 0.018376114, -0.055988964, 0.01...</td>\n",
       "    </tr>\n",
       "    <tr>\n",
       "      <th>2</th>\n",
       "      <td>У Бєлгороді заявили про обстріл міста, відомо ...</td>\n",
       "      <td>негативна</td>\n",
       "      <td>[-0.0119311195, 0.015456551, -0.014062805, 0.0...</td>\n",
       "    </tr>\n",
       "  </tbody>\n",
       "</table>\n",
       "</div>"
      ]
     },
     "execution_count": 12,
     "metadata": {},
     "output_type": "execute_result"
    }
   ],
   "execution_count": 12
  },
  {
   "metadata": {},
   "cell_type": "code",
   "outputs": [],
   "execution_count": null,
   "source": [
    "def build_classification_model(input_size: int, num_classes: int) -> keras.Model:\n",
    "  inputs = x = keras.Input(input_size)\n",
    "  x = layers.Dense(input_size, activation='relu')(x)\n",
    "  x = layers.Dense(num_classes, activation='sigmoid')(x)\n",
    "  return keras.Model(inputs=[inputs], outputs=x)\n",
    "     "
   ],
   "id": "142a85203dc31720"
  },
  {
   "metadata": {},
   "cell_type": "code",
   "outputs": [],
   "execution_count": null,
   "source": [
    "# Derive the embedding size from the first training element.\n",
    "embedding_size = len(df_train['Embeddings'].iloc[0])\n",
    "\n",
    "# Give your model a different name, as you have already used the variable name 'model'\n",
    "classifier = build_classification_model(embedding_size, len(df_train['Class Name'].unique()))\n",
    "classifier.summary()\n",
    "\n",
    "classifier.compile(loss = keras.losses.SparseCategoricalCrossentropy(from_logits=True),\n",
    "                   optimizer = keras.optimizers.Adam(learning_rate=0.001),\n",
    "                   metrics=['accuracy'])"
   ],
   "id": "8c65736038b3b48c"
  },
  {
   "metadata": {},
   "cell_type": "code",
   "outputs": [],
   "execution_count": null,
   "source": [
    "NUM_EPOCHS = 20\n",
    "BATCH_SIZE = 32\n",
    "\n",
    "# Split the x and y components of the train and validation subsets.\n",
    "y_train = df_train['Encoded Label']\n",
    "x_train = np.stack(df_train['Embeddings'])\n",
    "y_val = df_test['Encoded Label']\n",
    "x_val = np.stack(df_test['Embeddings'])\n",
    "\n",
    "# Train the model for the desired number of epochs.\n",
    "callback = keras.callbacks.EarlyStopping(monitor='accuracy', patience=3)\n",
    "\n",
    "history = classifier.fit(x=x_train,\n",
    "                         y=y_train,\n",
    "                         validation_data=(x_val, y_val),\n",
    "                         callbacks=[callback],\n",
    "                         batch_size=BATCH_SIZE,\n",
    "                         epochs=NUM_EPOCHS,)"
   ],
   "id": "9044d5cfd781281a"
  },
  {
   "metadata": {},
   "cell_type": "code",
   "outputs": [],
   "execution_count": null,
   "source": "classifier.evaluate(x=x_val, y=y_val, return_dict=True)",
   "id": "d61c9f1b139e6098"
  },
  {
   "metadata": {},
   "cell_type": "code",
   "outputs": [],
   "execution_count": null,
   "source": [
    "def plot_history(history):\n",
    "  \"\"\"\n",
    "    Plotting training and validation learning curves.\n",
    "\n",
    "    Args:\n",
    "      history: model history with all the metric measures\n",
    "  \"\"\"\n",
    "  fig, (ax1, ax2) = plt.subplots(1,2)\n",
    "  fig.set_size_inches(20, 8)\n",
    "\n",
    "  # Plot loss\n",
    "  ax1.set_title('Loss')\n",
    "  ax1.plot(history.history['loss'], label = 'train')\n",
    "  ax1.plot(history.history['val_loss'], label = 'test')\n",
    "  ax1.set_ylabel('Loss')\n",
    "\n",
    "  ax1.set_xlabel('Epoch')\n",
    "  ax1.legend(['Train', 'Validation'])\n",
    "\n",
    "  # Plot accuracy\n",
    "  ax2.set_title('Accuracy')\n",
    "  ax2.plot(history.history['accuracy'],  label = 'train')\n",
    "  ax2.plot(history.history['val_accuracy'], label = 'test')\n",
    "  ax2.set_ylabel('Accuracy')\n",
    "  ax2.set_xlabel('Epoch')\n",
    "  ax2.legend(['Train', 'Validation'])\n",
    "\n",
    "  plt.show()\n",
    "\n",
    "plot_history(history)"
   ],
   "id": "8eadbecc660a7c6a"
  },
  {
   "metadata": {},
   "cell_type": "code",
   "outputs": [],
   "execution_count": null,
   "source": [
    "y_hat = classifier.predict(x=x_val)\n",
    "y_hat = np.argmax(y_hat, axis=1)"
   ],
   "id": "164b654b281348dc"
  },
  {
   "metadata": {},
   "cell_type": "code",
   "outputs": [],
   "execution_count": null,
   "source": [
    "labels_dict = dict(zip(df_test['Class Name'], df_test['Encoded Label']))\n",
    "labels_dict"
   ],
   "id": "c04fb45ed4d37fe3"
  },
  {
   "metadata": {},
   "cell_type": "code",
   "outputs": [],
   "execution_count": null,
   "source": [
    "cm = skmetrics.confusion_matrix(y_val, y_hat)\n",
    "disp = skmetrics.ConfusionMatrixDisplay(confusion_matrix=cm,\n",
    "                              display_labels=labels_dict.keys())\n",
    "disp.plot(xticks_rotation='vertical')\n",
    "plt.title('Confusion matrix for newsgroup test dataset');\n",
    "plt.grid(False)"
   ],
   "id": "74fe749762b77b4d"
  }
 ],
 "metadata": {
  "kernelspec": {
   "display_name": "Python 3",
   "language": "python",
   "name": "python3"
  },
  "language_info": {
   "codemirror_mode": {
    "name": "ipython",
    "version": 2
   },
   "file_extension": ".py",
   "mimetype": "text/x-python",
   "name": "python",
   "nbconvert_exporter": "python",
   "pygments_lexer": "ipython2",
   "version": "2.7.6"
  }
 },
 "nbformat": 4,
 "nbformat_minor": 5
}
